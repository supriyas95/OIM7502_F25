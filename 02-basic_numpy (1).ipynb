{
 "cells": [
  {
   "cell_type": "markdown",
   "id": "82d4a65b",
   "metadata": {},
   "source": [
    "## Basic NumPy Functionality"
   ]
  },
  {
   "cell_type": "markdown",
   "id": "d5841649",
   "metadata": {},
   "source": [
    "### NumPy n-dim array\n",
    "* Part of a Data \"ecosystem\" which includes data science libaries, machine learning and image processing\n",
    "* NumPy is huge and very powerful --> we will just hit the highlights\n",
    "* optimized array, superior to lists\n",
    "* can be \"any\" number of dimensions, typically 1 or 2 dims though\n",
    "* restricted to a single data type\n",
    "* required to \"dimension\" your arrays when you initialize them "
   ]
  },
  {
   "cell_type": "code",
   "execution_count": 105,
   "id": "e00a4c30",
   "metadata": {},
   "outputs": [],
   "source": [
    "import numpy as np\n",
    "import numpy.random as npr"
   ]
  },
  {
   "cell_type": "code",
   "execution_count": 24,
   "id": "f5e76bd4",
   "metadata": {},
   "outputs": [],
   "source": [
    "l = [1, 2, 3] \n",
    "a = np.array([1,2,3])"
   ]
  },
  {
   "cell_type": "code",
   "execution_count": 26,
   "id": "8dead382",
   "metadata": {},
   "outputs": [
    {
     "data": {
      "text/plain": [
       "[1, 2, 3]"
      ]
     },
     "execution_count": 26,
     "metadata": {},
     "output_type": "execute_result"
    }
   ],
   "source": [
    "l"
   ]
  },
  {
   "cell_type": "code",
   "execution_count": 28,
   "id": "44e967bd",
   "metadata": {},
   "outputs": [
    {
     "data": {
      "text/plain": [
       "array([1, 2, 3])"
      ]
     },
     "execution_count": 28,
     "metadata": {},
     "output_type": "execute_result"
    }
   ],
   "source": [
    "a\n"
   ]
  },
  {
   "cell_type": "code",
   "execution_count": 30,
   "id": "2f5f2175",
   "metadata": {},
   "outputs": [
    {
     "data": {
      "text/plain": [
       "[5, 10, 15]"
      ]
     },
     "execution_count": 30,
     "metadata": {},
     "output_type": "execute_result"
    }
   ],
   "source": [
    "[x * 5 for x in l]"
   ]
  },
  {
   "cell_type": "code",
   "execution_count": 32,
   "id": "406b8b75",
   "metadata": {},
   "outputs": [
    {
     "data": {
      "text/plain": [
       "[1, 2, 3, 1, 2, 3]"
      ]
     },
     "execution_count": 32,
     "metadata": {},
     "output_type": "execute_result"
    }
   ],
   "source": [
    "l + l\n"
   ]
  },
  {
   "cell_type": "code",
   "execution_count": 35,
   "id": "467702f9-55bf-436c-a3f5-d56e338a685e",
   "metadata": {},
   "outputs": [
    {
     "data": {
      "text/plain": [
       "'11'"
      ]
     },
     "execution_count": 35,
     "metadata": {},
     "output_type": "execute_result"
    }
   ],
   "source": [
    "'1' + '1'"
   ]
  },
  {
   "cell_type": "code",
   "execution_count": 37,
   "id": "eb91d473-cc4d-478a-85a4-1a074a43a869",
   "metadata": {},
   "outputs": [
    {
     "data": {
      "text/plain": [
       "array([2, 4, 6])"
      ]
     },
     "execution_count": 37,
     "metadata": {},
     "output_type": "execute_result"
    }
   ],
   "source": [
    "a + a"
   ]
  },
  {
   "cell_type": "code",
   "execution_count": null,
   "id": "064643ef-afae-479e-9d79-12b2d5ec714b",
   "metadata": {},
   "outputs": [],
   "source": []
  },
  {
   "cell_type": "markdown",
   "id": "8f923313",
   "metadata": {},
   "source": [
    "### Performance"
   ]
  },
  {
   "cell_type": "code",
   "execution_count": 45,
   "id": "d4955753",
   "metadata": {},
   "outputs": [],
   "source": [
    "big_arr = np.arange(4.5e6)\n",
    "big_list = big_arr.tolist()\n"
   ]
  },
  {
   "cell_type": "code",
   "execution_count": 54,
   "id": "fa634fac-bf0a-420c-b009-88b15d2f7afa",
   "metadata": {},
   "outputs": [
    {
     "name": "stdout",
     "output_type": "stream",
     "text": [
      "580 ms ± 14.3 ms per loop (mean ± std. dev. of 7 runs, 5 loops each)\n"
     ]
    }
   ],
   "source": [
    "%timeit -n5 square = [x ** 2 for x in big_list]\n"
   ]
  },
  {
   "cell_type": "code",
   "execution_count": 51,
   "id": "2f06c664-c5c4-4641-932e-1b55979fe8b7",
   "metadata": {},
   "outputs": [
    {
     "name": "stdout",
     "output_type": "stream",
     "text": [
      "12.7 ms ± 2.04 ms per loop (mean ± std. dev. of 7 runs, 5 loops each)\n"
     ]
    }
   ],
   "source": [
    "%timeit -n5 sqare = big_arr **2"
   ]
  },
  {
   "cell_type": "code",
   "execution_count": 43,
   "id": "510ad96a",
   "metadata": {},
   "outputs": [
    {
     "data": {
      "text/plain": [
       "4500000"
      ]
     },
     "execution_count": 43,
     "metadata": {},
     "output_type": "execute_result"
    }
   ],
   "source": [
    "4_500_000"
   ]
  },
  {
   "cell_type": "code",
   "execution_count": null,
   "id": "a820ae3b",
   "metadata": {},
   "outputs": [],
   "source": []
  },
  {
   "cell_type": "markdown",
   "id": "5ed5818d",
   "metadata": {},
   "source": [
    "### Determining dimensions\n",
    "* size = \"rows\" * \"columns\"\n",
    "* itemsize --> number of bytes used by a single value\n",
    "* itemsize * size = bytes of memory the array uses\n",
    "* shape --> comma separated tuple of length of each dimension\n",
    "* ndim --> int value of dimensions present\n",
    "* reshape --> dimension manipulation"
   ]
  },
  {
   "cell_type": "code",
   "execution_count": 56,
   "id": "117f3b2a",
   "metadata": {},
   "outputs": [
    {
     "data": {
      "text/plain": [
       "array([ 0,  1,  2,  3,  4,  5,  6,  7,  8,  9, 10, 11, 12, 13, 14])"
      ]
     },
     "execution_count": 56,
     "metadata": {},
     "output_type": "execute_result"
    }
   ],
   "source": [
    "r = np.arange(15)\n",
    "r"
   ]
  },
  {
   "cell_type": "code",
   "execution_count": 58,
   "id": "646a24a3",
   "metadata": {},
   "outputs": [
    {
     "data": {
      "text/plain": [
       "15"
      ]
     },
     "execution_count": 58,
     "metadata": {},
     "output_type": "execute_result"
    }
   ],
   "source": [
    "r.size"
   ]
  },
  {
   "cell_type": "markdown",
   "id": "9066cb7a-ce9e-4084-ab0a-89b67fcc43db",
   "metadata": {},
   "source": [
    "8 bit image,\n",
    "3d array, RGB COLOUR, 0-225, 24 bit\n",
    "black and white stored in 2d array"
   ]
  },
  {
   "cell_type": "code",
   "execution_count": 67,
   "id": "f9cd89ae",
   "metadata": {},
   "outputs": [
    {
     "data": {
      "text/plain": [
       "4"
      ]
     },
     "execution_count": 67,
     "metadata": {},
     "output_type": "execute_result"
    }
   ],
   "source": [
    "r.itemsize # How many bytes does each value in this array take up"
   ]
  },
  {
   "cell_type": "code",
   "execution_count": 69,
   "id": "8b3a6ee2",
   "metadata": {},
   "outputs": [
    {
     "data": {
      "text/plain": [
       "(15,)"
      ]
     },
     "execution_count": 69,
     "metadata": {},
     "output_type": "execute_result"
    }
   ],
   "source": [
    "r.shape"
   ]
  },
  {
   "cell_type": "code",
   "execution_count": 83,
   "id": "d61327f6",
   "metadata": {},
   "outputs": [
    {
     "data": {
      "text/plain": [
       "array([[ 0,  1,  2],\n",
       "       [ 3,  4,  5],\n",
       "       [ 6,  7,  8],\n",
       "       [ 9, 10, 11],\n",
       "       [12, 13, 14]])"
      ]
     },
     "execution_count": 83,
     "metadata": {},
     "output_type": "execute_result"
    }
   ],
   "source": [
    "r.reshape(5,3)"
   ]
  },
  {
   "cell_type": "code",
   "execution_count": 75,
   "id": "d9405d2c-f453-4d6d-b241-6fb5fea7e6cb",
   "metadata": {},
   "outputs": [
    {
     "data": {
      "text/plain": [
       "(5, 3)"
      ]
     },
     "execution_count": 75,
     "metadata": {},
     "output_type": "execute_result"
    }
   ],
   "source": [
    "r.reshape(5,3).shape"
   ]
  },
  {
   "cell_type": "code",
   "execution_count": 73,
   "id": "1a776856",
   "metadata": {},
   "outputs": [
    {
     "data": {
      "text/plain": [
       "array([ 0,  1,  2,  3,  4,  5,  6,  7,  8,  9, 10, 11, 12, 13, 14])"
      ]
     },
     "execution_count": 73,
     "metadata": {},
     "output_type": "execute_result"
    }
   ],
   "source": [
    "r\n"
   ]
  },
  {
   "cell_type": "code",
   "execution_count": 77,
   "id": "b7956d73",
   "metadata": {},
   "outputs": [
    {
     "data": {
      "text/plain": [
       "array([ 0,  1,  2,  3,  4,  5,  6,  7,  8,  9, 10, 11, 12, 13, 14])"
      ]
     },
     "execution_count": 77,
     "metadata": {},
     "output_type": "execute_result"
    }
   ],
   "source": [
    "r.reshape(-1) #or r.reshape(15,), to convert it into 1d array as earlier it was converted into 3d"
   ]
  },
  {
   "cell_type": "code",
   "execution_count": 91,
   "id": "a1cda42e",
   "metadata": {},
   "outputs": [],
   "source": [
    "a= r.reshape(5,3)"
   ]
  },
  {
   "cell_type": "markdown",
   "id": "1ef24555",
   "metadata": {},
   "source": [
    "### \"Slicing\""
   ]
  },
  {
   "cell_type": "code",
   "execution_count": 93,
   "id": "c3c79807",
   "metadata": {},
   "outputs": [
    {
     "data": {
      "text/plain": [
       "array([3, 4, 5])"
      ]
     },
     "execution_count": 93,
     "metadata": {},
     "output_type": "execute_result"
    }
   ],
   "source": [
    "a[1,:]"
   ]
  },
  {
   "cell_type": "code",
   "execution_count": null,
   "id": "fb28109e",
   "metadata": {},
   "outputs": [],
   "source": []
  },
  {
   "cell_type": "code",
   "execution_count": null,
   "id": "793553d5",
   "metadata": {},
   "outputs": [],
   "source": []
  },
  {
   "cell_type": "markdown",
   "id": "4a031caf",
   "metadata": {},
   "source": [
    "### Special arrays\n",
    "* useful for dimensioning an array before you aknow what values it will hold"
   ]
  },
  {
   "cell_type": "code",
   "execution_count": 95,
   "id": "65ad950d",
   "metadata": {},
   "outputs": [
    {
     "data": {
      "text/plain": [
       "array([1., 1., 1., 1., 1.])"
      ]
     },
     "execution_count": 95,
     "metadata": {},
     "output_type": "execute_result"
    }
   ],
   "source": [
    "np.ones(5)"
   ]
  },
  {
   "cell_type": "code",
   "execution_count": 97,
   "id": "5a461790",
   "metadata": {},
   "outputs": [
    {
     "data": {
      "text/plain": [
       "array([[1., 1., 1., 1., 1.],\n",
       "       [1., 1., 1., 1., 1.],\n",
       "       [1., 1., 1., 1., 1.],\n",
       "       [1., 1., 1., 1., 1.],\n",
       "       [1., 1., 1., 1., 1.]])"
      ]
     },
     "execution_count": 97,
     "metadata": {},
     "output_type": "execute_result"
    }
   ],
   "source": [
    "np.ones((5,5))"
   ]
  },
  {
   "cell_type": "code",
   "execution_count": 99,
   "id": "b29ec0c4",
   "metadata": {},
   "outputs": [
    {
     "data": {
      "text/plain": [
       "array([0., 0., 0., 0., 0.])"
      ]
     },
     "execution_count": 99,
     "metadata": {},
     "output_type": "execute_result"
    }
   ],
   "source": [
    "np.zeros(5)"
   ]
  },
  {
   "cell_type": "code",
   "execution_count": 101,
   "id": "3e417d85",
   "metadata": {},
   "outputs": [
    {
     "data": {
      "text/plain": [
       "array([[1., 0., 0., 0., 0.],\n",
       "       [0., 1., 0., 0., 0.],\n",
       "       [0., 0., 1., 0., 0.],\n",
       "       [0., 0., 0., 1., 0.],\n",
       "       [0., 0., 0., 0., 1.]])"
      ]
     },
     "execution_count": 101,
     "metadata": {},
     "output_type": "execute_result"
    }
   ],
   "source": [
    "np.eye(5,5)"
   ]
  },
  {
   "cell_type": "code",
   "execution_count": 103,
   "id": "e80dd4f7-e7ee-434f-ab17-02d34f0ec186",
   "metadata": {},
   "outputs": [
    {
     "data": {
      "text/plain": [
       "array([1., 1., 1., 1., 1.])"
      ]
     },
     "execution_count": 103,
     "metadata": {},
     "output_type": "execute_result"
    }
   ],
   "source": [
    "np.empty(5)"
   ]
  },
  {
   "cell_type": "code",
   "execution_count": null,
   "id": "9fc83a00-ee10-4782-82e7-ea0de0445c9e",
   "metadata": {},
   "outputs": [],
   "source": []
  },
  {
   "cell_type": "markdown",
   "id": "a449962f",
   "metadata": {},
   "source": [
    "### Working with random numbers\n",
    "* many different distribution options\n",
    "* normal and uniform most common\n",
    "* normal, standard_normal\n",
    "* randn, randint"
   ]
  },
  {
   "cell_type": "markdown",
   "id": "2e026a2e",
   "metadata": {},
   "source": [
    "### Standard normal\n",
    "* mean 0\n",
    "* std 1\n",
    "* takes a single optional argument --> n\n",
    "* `np.random.standard_normal([size])`"
   ]
  },
  {
   "cell_type": "code",
   "execution_count": 109,
   "id": "ab595ac3",
   "metadata": {},
   "outputs": [
    {
     "data": {
      "text/plain": [
       "array([-0.47831425,  2.24225659, -2.08745086, -0.21028412,  1.47997374,\n",
       "        1.59099623, -0.11443272,  0.47651478,  1.49210799,  0.82908787])"
      ]
     },
     "execution_count": 109,
     "metadata": {},
     "output_type": "execute_result"
    }
   ],
   "source": [
    "np.random.standard_normal(10)"
   ]
  },
  {
   "cell_type": "code",
   "execution_count": 111,
   "id": "c50794d9",
   "metadata": {},
   "outputs": [
    {
     "ename": "AttributeError",
     "evalue": "'builtin_function_or_method' object has no attribute 'standard_normal'",
     "output_type": "error",
     "traceback": [
      "\u001b[1;31m---------------------------------------------------------------------------\u001b[0m",
      "\u001b[1;31mAttributeError\u001b[0m                            Traceback (most recent call last)",
      "Cell \u001b[1;32mIn[111], line 1\u001b[0m\n\u001b[1;32m----> 1\u001b[0m npr\u001b[38;5;241m.\u001b[39mrandom\u001b[38;5;241m.\u001b[39mstandard_normal(\u001b[38;5;241m10\u001b[39m)\n",
      "\u001b[1;31mAttributeError\u001b[0m: 'builtin_function_or_method' object has no attribute 'standard_normal'"
     ]
    }
   ],
   "source": []
  },
  {
   "cell_type": "markdown",
   "id": "212e10f8",
   "metadata": {},
   "source": [
    "### Uniform Distributions\n",
    "* `np.random.randn(size=None)`\n",
    "* `np.random.randint(low, high=None, size=None, dtype=int)`\n",
    "    * excludes high --> called a half-open interval"
   ]
  },
  {
   "cell_type": "code",
   "execution_count": null,
   "id": "1692699f",
   "metadata": {},
   "outputs": [],
   "source": []
  },
  {
   "cell_type": "code",
   "execution_count": null,
   "id": "823394ab",
   "metadata": {},
   "outputs": [],
   "source": []
  },
  {
   "cell_type": "code",
   "execution_count": null,
   "id": "f8218c0a",
   "metadata": {},
   "outputs": [],
   "source": []
  },
  {
   "cell_type": "code",
   "execution_count": 115,
   "id": "69a93de0",
   "metadata": {},
   "outputs": [
    {
     "data": {
      "text/plain": [
       "1"
      ]
     },
     "execution_count": 115,
     "metadata": {},
     "output_type": "execute_result"
    }
   ],
   "source": [
    "# notice we never get to 6...\n",
    "npr.randint(1,6)"
   ]
  },
  {
   "cell_type": "code",
   "execution_count": null,
   "id": "09581032",
   "metadata": {},
   "outputs": [],
   "source": []
  },
  {
   "cell_type": "markdown",
   "id": "b834ed8a",
   "metadata": {},
   "source": [
    "### Normal\n",
    "* loc = mean\n",
    "* scale = std\n",
    "* if not specified mean = 0, std = 1"
   ]
  },
  {
   "cell_type": "code",
   "execution_count": 124,
   "id": "0f630557",
   "metadata": {},
   "outputs": [],
   "source": [
    "x= npr.normal(loc=100, scale=10, size=100)  #scale=std, local = normal"
   ]
  },
  {
   "cell_type": "code",
   "execution_count": 126,
   "id": "6088426d",
   "metadata": {},
   "outputs": [
    {
     "name": "stdout",
     "output_type": "stream",
     "text": [
      "100.02127088779686\n",
      "9.771923955982194\n",
      "122.19500107418409\n",
      "81.22084905369115\n"
     ]
    }
   ],
   "source": [
    "print(x.mean())\n",
    "print(x.std())\n",
    "print(x.max())\n",
    "print(x.min())\n",
    "# there is no median method"
   ]
  },
  {
   "cell_type": "code",
   "execution_count": 134,
   "id": "1bb5ac5d",
   "metadata": {},
   "outputs": [
    {
     "data": {
      "text/plain": [
       "array([-1.13962172, -1.09584505, -0.70898091, -0.12959075,  0.67813038,\n",
       "        1.22656313,  1.38008202])"
      ]
     },
     "execution_count": 134,
     "metadata": {},
     "output_type": "execute_result"
    }
   ],
   "source": [
    "percentile = [ 5,10,25,50,75, 90, 95]\n",
    "np.percentile (x, percentile)"
   ]
  },
  {
   "cell_type": "markdown",
   "id": "82aceac8",
   "metadata": {},
   "source": [
    "### Simple Linear Modeling"
   ]
  },
  {
   "cell_type": "code",
   "execution_count": null,
   "id": "df625293",
   "metadata": {},
   "outputs": [],
   "source": []
  },
  {
   "cell_type": "code",
   "execution_count": null,
   "id": "abbdc52e",
   "metadata": {},
   "outputs": [],
   "source": []
  },
  {
   "cell_type": "code",
   "execution_count": null,
   "id": "7a4964ea",
   "metadata": {},
   "outputs": [],
   "source": []
  },
  {
   "cell_type": "code",
   "execution_count": 59,
   "id": "833219ca",
   "metadata": {},
   "outputs": [
    {
     "data": {
      "text/plain": [
       "0.9617250638432819"
      ]
     },
     "execution_count": 59,
     "metadata": {},
     "output_type": "execute_result"
    }
   ],
   "source": [
    "slope, intercept = np.polyfit(x,y, deg=1)\n",
    "slope"
   ]
  },
  {
   "cell_type": "markdown",
   "id": "a5b13c1e",
   "metadata": {},
   "source": [
    "### More syntactically intense method to do the same thing\n",
    "* Requires a \"dummy\" variable next to actual x variable\n",
    "* The rcond allows for special handling of extremely small values "
   ]
  },
  {
   "cell_type": "code",
   "execution_count": 128,
   "id": "254e2bba",
   "metadata": {},
   "outputs": [],
   "source": [
    "x = npr.normal(size=50)\n",
    "y = x + npr.normal(loc=10, size=50)"
   ]
  },
  {
   "cell_type": "code",
   "execution_count": 130,
   "id": "a6b2b57c",
   "metadata": {},
   "outputs": [
    {
     "data": {
      "text/plain": [
       "array([[1.        , 0.73780949],\n",
       "       [0.73780949, 1.        ]])"
      ]
     },
     "execution_count": 130,
     "metadata": {},
     "output_type": "execute_result"
    }
   ],
   "source": [
    "np.corrcoef(x,y)"
   ]
  },
  {
   "cell_type": "code",
   "execution_count": 132,
   "id": "3c438eda",
   "metadata": {},
   "outputs": [
    {
     "data": {
      "text/plain": [
       "array([ 1.11793172, 10.03655916])"
      ]
     },
     "execution_count": 132,
     "metadata": {},
     "output_type": "execute_result"
    }
   ],
   "source": [
    "np.polyfit(x,y, deg=1)"
   ]
  },
  {
   "cell_type": "code",
   "execution_count": null,
   "id": "8210a9f6-0689-43e7-994c-02fc0f55f85e",
   "metadata": {},
   "outputs": [],
   "source": []
  },
  {
   "cell_type": "markdown",
   "id": "bc96861f",
   "metadata": {},
   "source": [
    "### Fill array with uniformly spaced data points between a minimum and maximum"
   ]
  },
  {
   "cell_type": "code",
   "execution_count": null,
   "id": "c0289a00",
   "metadata": {},
   "outputs": [],
   "source": []
  },
  {
   "cell_type": "code",
   "execution_count": null,
   "id": "03355598",
   "metadata": {},
   "outputs": [],
   "source": []
  }
 ],
 "metadata": {
  "kernelspec": {
   "display_name": "Python [conda env:base] *",
   "language": "python",
   "name": "conda-base-py"
  },
  "language_info": {
   "codemirror_mode": {
    "name": "ipython",
    "version": 3
   },
   "file_extension": ".py",
   "mimetype": "text/x-python",
   "name": "python",
   "nbconvert_exporter": "python",
   "pygments_lexer": "ipython3",
   "version": "3.12.7"
  }
 },
 "nbformat": 4,
 "nbformat_minor": 5
}
