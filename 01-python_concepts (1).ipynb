{
 "cells": [
  {
   "cell_type": "markdown",
   "id": "9383bafa",
   "metadata": {},
   "source": [
    "### Python Programming Concepts"
   ]
  },
  {
   "cell_type": "markdown",
   "id": "17df7d6e",
   "metadata": {},
   "source": [
    "#### 1. Create a variable to store the value 500 for sales"
   ]
  },
  {
   "cell_type": "code",
   "execution_count": 1,
   "id": "a5f43c2f",
   "metadata": {},
   "outputs": [
    {
     "data": {
      "text/plain": [
       "500"
      ]
     },
     "execution_count": 1,
     "metadata": {},
     "output_type": "execute_result"
    }
   ],
   "source": [
    "sales= 500\n",
    "sales"
   ]
  },
  {
   "cell_type": "markdown",
   "id": "6dc8b9ea",
   "metadata": {},
   "source": [
    "#### 2. Create a variable to store several values:  \n",
    "* sales: 500, 475, 625\n",
    "* integers 1 - 9 "
   ]
  },
  {
   "cell_type": "code",
   "execution_count": 3,
   "id": "902fe3bd",
   "metadata": {},
   "outputs": [
    {
     "name": "stdout",
     "output_type": "stream",
     "text": [
      "[500, 475, 625]\n",
      "[1, 2, 3, 4, 5, 6, 7, 8, 9]\n"
     ]
    }
   ],
   "source": [
    "sales = [500, 475, 625]\n",
    "\n",
    "# Store integers 1 to 9\n",
    "numbers = list(range(1, 10))\n",
    "\n",
    "print(sales)\n",
    "print(numbers)"
   ]
  },
  {
   "cell_type": "code",
   "execution_count": null,
   "id": "bbc89976-1dc6-4515-8b0e-0e305b948f87",
   "metadata": {},
   "outputs": [],
   "source": []
  },
  {
   "cell_type": "markdown",
   "id": "62e55953",
   "metadata": {},
   "source": [
    "#### 3. Create a variable to store the names and email addresses for a number of customers\n",
    "* John, john@some.com; Ann, ann@some.com"
   ]
  },
  {
   "cell_type": "code",
   "execution_count": 7,
   "id": "03f2b161",
   "metadata": {},
   "outputs": [
    {
     "data": {
      "text/plain": [
       "{'John': 'john@some.com', 'Ann': 'ann@some.com'}"
      ]
     },
     "execution_count": 7,
     "metadata": {},
     "output_type": "execute_result"
    }
   ],
   "source": [
    "customers ={\n",
    "    \"John\": \"john@some.com\", \"Ann\": \"ann@some.com\"\n",
    "}\n",
    "customers"
   ]
  },
  {
   "cell_type": "markdown",
   "id": "d6b1e8c6",
   "metadata": {},
   "source": [
    "#### 4. Use Python to generate a random value based on each of following:\n",
    "1. between 0 and 1\n",
    "2. the standard normal distribution (rounded to two decimal places)\n",
    "3. a value between 1 and 10\n",
    "4. either H or T"
   ]
  },
  {
   "cell_type": "code",
   "execution_count": 9,
   "id": "f004d7b5",
   "metadata": {},
   "outputs": [],
   "source": [
    "import random\n",
    "import numpy as np"
   ]
  },
  {
   "cell_type": "code",
   "execution_count": 11,
   "id": "a8efc6fc",
   "metadata": {},
   "outputs": [],
   "source": [
    "val = random.random()"
   ]
  },
  {
   "cell_type": "code",
   "execution_count": 13,
   "id": "f20b6134-2d52-4465-a867-e7b69e9a9d94",
   "metadata": {},
   "outputs": [],
   "source": [
    "val_normal = round(np.random.randn(), 2)"
   ]
  },
  {
   "cell_type": "code",
   "execution_count": 15,
   "id": "3a150c3e",
   "metadata": {},
   "outputs": [],
   "source": [
    "val_1 = random.randint(1, 10)"
   ]
  },
  {
   "cell_type": "code",
   "execution_count": 17,
   "id": "f80f4b3b",
   "metadata": {},
   "outputs": [],
   "source": [
    "val_coin = random.choice(['H', 'T'])"
   ]
  },
  {
   "cell_type": "code",
   "execution_count": 21,
   "id": "bdb52b86",
   "metadata": {},
   "outputs": [
    {
     "name": "stdout",
     "output_type": "stream",
     "text": [
      "0.36214548206777997\n",
      "-1.62\n",
      "9\n",
      "T\n"
     ]
    }
   ],
   "source": [
    "print(val)\n",
    "print(val_normal)\n",
    "print(val_1)\n",
    "print(val_coin)"
   ]
  },
  {
   "cell_type": "markdown",
   "id": "7eddf06a",
   "metadata": {},
   "source": [
    "#### 5. Use Python to determine your current working directory"
   ]
  },
  {
   "cell_type": "code",
   "execution_count": 23,
   "id": "d8f79474",
   "metadata": {},
   "outputs": [
    {
     "name": "stdout",
     "output_type": "stream",
     "text": [
      "Current Working Directory: C:\\Users\\hp\n"
     ]
    }
   ],
   "source": [
    "import os\n",
    "\n",
    "# Get the current working directory\n",
    "cwd = os.getcwd()\n",
    "\n",
    "print(\"Current Working Directory:\", cwd)"
   ]
  },
  {
   "cell_type": "markdown",
   "id": "fc43ec50",
   "metadata": {},
   "source": [
    "#### 6. Use Python to determine how many days until New Year's Day"
   ]
  },
  {
   "cell_type": "code",
   "execution_count": 25,
   "id": "13f630fe",
   "metadata": {},
   "outputs": [
    {
     "name": "stdout",
     "output_type": "stream",
     "text": [
      "Days until New Year's Day: 111\n"
     ]
    }
   ],
   "source": [
    "from datetime import date\n",
    "today = date.today()\n",
    "new_year = date(today.year + 1, 1, 1)\n",
    "days_until = (new_year - today).days\n",
    "\n",
    "print(f\"Days until New Year's Day: {days_until}\")"
   ]
  },
  {
   "cell_type": "markdown",
   "id": "2ba4ea92",
   "metadata": {},
   "source": [
    "#### 7. Write a short program that displays the future value of 1,000 earning 5%  at the end of each year for the next 5 years"
   ]
  },
  {
   "cell_type": "code",
   "execution_count": 31,
   "id": "6fef4a8c",
   "metadata": {},
   "outputs": [
    {
     "name": "stdout",
     "output_type": "stream",
     "text": [
      "Year\tFuture Value\n",
      "1\t$1060.00\n",
      "2\t$1123.60\n",
      "3\t$1191.02\n",
      "4\t$1262.48\n",
      "5\t$1338.23\n"
     ]
    }
   ],
   "source": [
    "principal = 1000\n",
    "rate = 0.06\n",
    "\n",
    "print(\"Year\\tFuture Value\")\n",
    "\n",
    "# Loop through 1 to 5 years\n",
    "for year in range(1, 6):\n",
    "    future_value = principal * ((1 + rate) ** year)\n",
    "    print(f\"{year}\\t${future_value:.2f}\")"
   ]
  },
  {
   "cell_type": "markdown",
   "id": "150201c8",
   "metadata": {},
   "source": [
    "#### 8. Write a short program that prompts a user to enter a stock symbol and press enter. Add each symbol entered to a variable. The program should run until the user presses the enter key without entering anything (empty string) "
   ]
  },
  {
   "cell_type": "code",
   "execution_count": 29,
   "id": "931a346f",
   "metadata": {},
   "outputs": [
    {
     "name": "stdin",
     "output_type": "stream",
     "text": [
      "Enter a stock symbol (press Enter to finish):  1\n",
      "Enter a stock symbol (press Enter to finish):  @\n",
      "Enter a stock symbol (press Enter to finish):  []\n",
      "Enter a stock symbol (press Enter to finish):  ['AAPL', 'TSLA']\n",
      "Enter a stock symbol (press Enter to finish):  \n"
     ]
    },
    {
     "name": "stdout",
     "output_type": "stream",
     "text": [
      "\n",
      "You entered the following stock symbols:\n",
      "['1', '@', '[]', \"['AAPL', 'TSLA']\"]\n"
     ]
    }
   ],
   "source": [
    "# List to store stock symbols\n",
    "symbols = []\n",
    "\n",
    "while True:\n",
    "    symbol = input(\"Enter a stock symbol (press Enter to finish): \").strip()\n",
    "    if symbol == \"\":  # Stop if the user presses Enter without input\n",
    "        break\n",
    "    symbols.append(symbol)\n",
    "\n",
    "print(\"\\nYou entered the following stock symbols:\")\n",
    "print(symbols)\n"
   ]
  },
  {
   "cell_type": "markdown",
   "id": "fc2a7592",
   "metadata": {},
   "source": [
    "#### 9. Write the code necessary to calculate the sum of the square differences of a group of values : \n",
    "58, 32, 37, 41, 36, 36, 54, 37, 25, 53\n",
    "##### $\\Sigma $(${x}$ - $\\bar{x}$)$^2$"
   ]
  },
  {
   "cell_type": "code",
   "execution_count": 37,
   "id": "13d9a6c5",
   "metadata": {},
   "outputs": [
    {
     "name": "stdout",
     "output_type": "stream",
     "text": [
      "Mean: 40.90\n",
      "Sum of squared differences: 1020.90\n"
     ]
    }
   ],
   "source": [
    "values = [58, 32, 37, 41, 36, 36, 54, 37, 25, 53]\n",
    "\n",
    "mean = sum(values) / len(values)\n",
    "sum_sq_diff = sum((x - mean) ** 2 for x in values)\n",
    "\n",
    "print(f\"Mean: {mean:.2f}\")\n",
    "print(f\"Sum of squared differences: {sum_sq_diff:.2f}\")"
   ]
  },
  {
   "cell_type": "markdown",
   "id": "6d6f2e64",
   "metadata": {},
   "source": [
    "#### 10. Opening, reading and writing files"
   ]
  },
  {
   "cell_type": "code",
   "execution_count": 39,
   "id": "f7fa569d",
   "metadata": {},
   "outputs": [],
   "source": [
    "file = open(\"example.txt\", \"w\")  # 'w' means write mode\n",
    "file.write(\"Hello, world!\")\n",
    "file.close()  "
   ]
  },
  {
   "cell_type": "markdown",
   "id": "eec548d6",
   "metadata": {},
   "source": [
    "#### 11. Create a function the will simulate rolling two die and return the value of each and and the sum "
   ]
  },
  {
   "cell_type": "code",
   "execution_count": 43,
   "id": "bb115cdc",
   "metadata": {},
   "outputs": [
    {
     "name": "stdout",
     "output_type": "stream",
     "text": [
      "Die 1: 6, Die 2: 5, Sum: 11\n"
     ]
    }
   ],
   "source": [
    "import random\n",
    "\n",
    "def roll_two_dice():\n",
    "    die1 = random.randint(1, 6)\n",
    "    die2 = random.randint(1, 6)\n",
    "    total = die1 + die2\n",
    "    return die1, die2, total\n",
    "\n",
    "d1, d2, s = roll_two_dice()\n",
    "print(f\"Die 1: {d1}, Die 2: {d2}, Sum: {s}\")\n"
   ]
  },
  {
   "cell_type": "markdown",
   "id": "21556d7f",
   "metadata": {},
   "source": [
    "#### 12. Write the code needed to evaluate whether a value in a group of values is negative or postive and prints an approriate message, i.e. postive, negative \n",
    "-1.59, 2.36, 1.69, 1.13, -0.91, 1.48, -0.34, 1.31, -0.74, 0.2"
   ]
  },
  {
   "cell_type": "code",
   "execution_count": 45,
   "id": "d6c38ecb",
   "metadata": {},
   "outputs": [
    {
     "name": "stdout",
     "output_type": "stream",
     "text": [
      "-1.59 is negative\n",
      "2.36 is positive\n",
      "1.69 is positive\n",
      "1.13 is positive\n",
      "-0.91 is negative\n",
      "1.48 is positive\n",
      "-0.34 is negative\n",
      "1.31 is positive\n",
      "-0.74 is negative\n",
      "0.2 is positive\n"
     ]
    }
   ],
   "source": [
    "values = [-1.59, 2.36, 1.69, 1.13, -0.91, 1.48, -0.34, 1.31, -0.74, 0.2]\n",
    "\n",
    "for num in values:\n",
    "    if num > 0:\n",
    "        print(f\"{num} is positive\")\n",
    "    elif num < 0:\n",
    "        print(f\"{num} is negative\")\n",
    "    else:\n",
    "        print(f\"{num} is zero\")\n"
   ]
  },
  {
   "cell_type": "code",
   "execution_count": null,
   "id": "aaefba17",
   "metadata": {},
   "outputs": [],
   "source": []
  },
  {
   "cell_type": "markdown",
   "id": "8cafe65c",
   "metadata": {},
   "source": [
    "#### 14.  Complete the following:\n",
    "1. Write a program that generates 500 random integers from 1 to n, for example, the first integer will be 1 the second will be 1 or 2, the fifth between 1 and 5, and so on.\n",
    "2. The program should write each integer to a file \n",
    "3. Once all integers are written close the file\n",
    "\n",
    "##### Part 2\n",
    "1. Open and read the file into a list\n",
    "2. Create a line plot of the data"
   ]
  },
  {
   "cell_type": "code",
   "execution_count": 47,
   "id": "60a910bb",
   "metadata": {},
   "outputs": [],
   "source": [
    "import random\n",
    "import matplotlib.pyplot as plt"
   ]
  },
  {
   "cell_type": "code",
   "execution_count": 48,
   "id": "d6b4180c",
   "metadata": {},
   "outputs": [],
   "source": [
    "filename = \"random_integers.txt\"\n",
    "\n",
    "with open(filename, \"w\") as file:\n",
    "    for i in range(1, 501):  # i goes from 1 to 500\n",
    "        value = random.randint(1, i)  # Random integer between 1 and i\n",
    "        file.write(str(value) + \"\\n\")"
   ]
  },
  {
   "cell_type": "code",
   "execution_count": 51,
   "id": "adb6aa11",
   "metadata": {},
   "outputs": [],
   "source": [
    "numbers = []\n",
    "with open(filename, \"r\") as file:\n",
    "    for line in file:\n",
    "        numbers.append(int(line.strip()))"
   ]
  },
  {
   "cell_type": "code",
   "execution_count": 53,
   "id": "6745da79",
   "metadata": {},
   "outputs": [
    {
     "data": {
      "image/png": "[encoded data removed]",
      "text/plain": [
       "<Figure size 640x480 with 1 Axes>"
      ]
     },
     "metadata": {},
     "output_type": "display_data"
    }
   ],
   "source": [
    "plt.plot(numbers)\n",
    "plt.title(\"Random Integers from 1 to n\")\n",
    "plt.xlabel(\"Index\")\n",
    "plt.ylabel(\"Random Value\")\n",
    "plt.grid(True)\n",
    "plt.show()"
   ]
  },
  {
   "cell_type": "code",
   "execution_count": null,
   "id": "21140445",
   "metadata": {},
   "outputs": [],
   "source": []
  },
  {
   "cell_type": "code",
   "execution_count": null,
   "id": "3d546600",
   "metadata": {},
   "outputs": [],
   "source": []
  }
 ],
 "metadata": {
  "kernelspec": {
   "display_name": "Python [conda env:base] *",
   "language": "python",
   "name": "conda-base-py"
  },
  "language_info": {
   "codemirror_mode": {
    "name": "ipython",
    "version": 3
   },
   "file_extension": ".py",
   "mimetype": "text/x-python",
   "name": "python",
   "nbconvert_exporter": "python",
   "pygments_lexer": "ipython3",
   "version": "3.12.7"
  }
 },
 "nbformat": 4,
 "nbformat_minor": 5
}
